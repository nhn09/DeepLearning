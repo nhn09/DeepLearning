{
  "nbformat": 4,
  "nbformat_minor": 0,
  "metadata": {
    "colab": {
      "provenance": [],
      "authorship_tag": "ABX9TyN2n1v0QeAceBi2A7UDqzHS",
      "include_colab_link": true
    },
    "kernelspec": {
      "name": "python3",
      "display_name": "Python 3"
    },
    "language_info": {
      "name": "python"
    }
  },
  "cells": [
    {
      "cell_type": "markdown",
      "metadata": {
        "id": "view-in-github",
        "colab_type": "text"
      },
      "source": [
        "<a href=\"https://colab.research.google.com/github/nhn09/DeepLearning/blob/main/DarkTriad_v4.ipynb\" target=\"_parent\"><img src=\"https://colab.research.google.com/assets/colab-badge.svg\" alt=\"Open In Colab\"/></a>"
      ]
    },
    {
      "cell_type": "code",
      "source": [
        "!pip install keras\n"
      ],
      "metadata": {
        "colab": {
          "base_uri": "https://localhost:8080/"
        },
        "id": "mWjoeviujm1R",
        "outputId": "ad85868d-82b0-4104-a6a9-0e2142c20d7e"
      },
      "execution_count": null,
      "outputs": [
        {
          "output_type": "stream",
          "name": "stdout",
          "text": [
            "Looking in indexes: https://pypi.org/simple, https://us-python.pkg.dev/colab-wheels/public/simple/\n",
            "Requirement already satisfied: keras in /usr/local/lib/python3.7/dist-packages (2.9.0)\n"
          ]
        }
      ]
    },
    {
      "cell_type": "code",
      "source": [
        "import numpy as np # linear algebra\n",
        "import pandas as pd # data processing, CSV file I/O (e.g. pd.read_csv)\n",
        "from tqdm import tqdm\n",
        "from sklearn.model_selection import train_test_split\n",
        "import tensorflow as tf\n",
        "from keras.models import Sequential\n",
        "from keras.layers import LSTM, GRU,SimpleRNN\n",
        "from keras.layers.core import Dense, Activation, Dropout\n",
        "from keras.layers import Embedding\n",
        "from tensorflow.keras.layers import BatchNormalization\n",
        "from keras.utils import np_utils\n",
        "from sklearn import preprocessing, decomposition, model_selection, metrics, pipeline\n",
        "from keras.layers import GlobalMaxPooling1D, Conv1D, MaxPooling1D, Flatten, Bidirectional, SpatialDropout1D\n",
        "from keras.preprocessing import sequence, text\n",
        "from keras.callbacks import EarlyStopping\n",
        "import matplotlib.pyplot as plt\n",
        "import seaborn as sns\n",
        "%matplotlib inline\n",
        "from plotly import graph_objs as go\n",
        "import plotly.express as px\n",
        "import plotly.figure_factory as ff"
      ],
      "metadata": {
        "id": "GfZMc7IZj4W3"
      },
      "execution_count": null,
      "outputs": []
    },
    {
      "cell_type": "code",
      "execution_count": null,
      "metadata": {
        "colab": {
          "base_uri": "https://localhost:8080/"
        },
        "id": "oO3nBf_KgGNF",
        "outputId": "e6c0f768-f2a0-4b8c-b929-b7a62fadd2bb"
      },
      "outputs": [
        {
          "output_type": "stream",
          "name": "stdout",
          "text": [
            "/usr/local/lib/python3.7/dist-packages/gdown/cli.py:131: FutureWarning: Option `--id` was deprecated in version 4.3.1 and will be removed in 5.0. You don't need to pass it anymore to use a file ID.\n",
            "  category=FutureWarning,\n",
            "Downloading...\n",
            "From: https://drive.google.com/uc?id=159rqMvDyWc3w2bvpQ2cD0XGvr3U3QUUQ\n",
            "To: /content/postwithScore.csv\n",
            "100% 1.90M/1.90M [00:00<00:00, 158MB/s]\n"
          ]
        }
      ],
      "source": [
        "!gdown --id 159rqMvDyWc3w2bvpQ2cD0XGvr3U3QUUQ"
      ]
    },
    {
      "cell_type": "code",
      "source": [
        "rawDataset = pd.read_csv('/content/postwithScore.csv', delimiter = \",\")\n",
        "rawDataset.info\n",
        "\n",
        "#drop all rows with undefined post\n",
        "rawDataset = rawDataset.drop(rawDataset[rawDataset['post '] =='undefined'].index).reset_index()"
      ],
      "metadata": {
        "id": "WCAJ-wFajdog"
      },
      "execution_count": null,
      "outputs": []
    },
    {
      "cell_type": "code",
      "source": [
        "rawDataset.info"
      ],
      "metadata": {
        "colab": {
          "base_uri": "https://localhost:8080/"
        },
        "id": "I4Jc3yNmmNua",
        "outputId": "4e1f05bc-4672-444f-a86d-fd788003cb96"
      },
      "execution_count": null,
      "outputs": [
        {
          "output_type": "execute_result",
          "data": {
            "text/plain": [
              "<bound method DataFrame.info of       index  Unnamed: 0                                              post   \\\n",
              "0         0           0                              my heart my soul..T-T   \n",
              "1         2           2              Free speech is a joke in this country   \n",
              "2         5           5  Make 500 sequels I don't care.Make another Jus...   \n",
              "3         6           6  Everybody wants a piece of the politically cor...   \n",
              "4        10          10                    And that's how a movement dies.   \n",
              "...     ...         ...                                                ...   \n",
              "8722  12745       12745                    TWO SUPERHUMANS IN ONE FRAME <3   \n",
              "8723  12746       12746  Man!!!\\nThe chase- UNBELIEVABLE!! Mushi and Ri...   \n",
              "8724  12748       12748                                              <3 <3   \n",
              "8725  12749       12749                               Madrid Triumphs!! :D   \n",
              "8726  12750       12750                  A small piece of heaven on earth.   \n",
              "\n",
              "      Mach  LSRP12  LSRP2  NRSM language languages  \n",
              "0     68.0     1.3    2.5   3.0       en        en  \n",
              "1     68.0     1.3    2.5   3.0       en        en  \n",
              "2     68.0     1.3    2.5   3.0       en        en  \n",
              "3     68.0     1.3    2.5   3.0       en        en  \n",
              "4     68.0     1.3    2.5   3.0       en        en  \n",
              "...    ...     ...    ...   ...      ...       ...  \n",
              "8722  53.0     1.9    3.1  19.0       en        en  \n",
              "8723  53.0     1.9    3.1  19.0       en        en  \n",
              "8724  53.0     1.9    3.1  19.0  unknown     other  \n",
              "8725  53.0     1.9    3.1  19.0       et     other  \n",
              "8726  53.0     1.9    3.1  19.0       en        en  \n",
              "\n",
              "[8727 rows x 9 columns]>"
            ]
          },
          "metadata": {},
          "execution_count": 9
        }
      ]
    },
    {
      "cell_type": "code",
      "source": [
        "rawDataset_0_999 = rawDataset.iloc[0:1000,:]"
      ],
      "metadata": {
        "id": "HQPO-w23nklf"
      },
      "execution_count": null,
      "outputs": []
    },
    {
      "cell_type": "code",
      "source": [
        "rawDataset_0_999.info"
      ],
      "metadata": {
        "colab": {
          "base_uri": "https://localhost:8080/"
        },
        "id": "OLJXxEIFn7ps",
        "outputId": "a4a995a6-f0f7-4c7e-a16e-3f0840451815"
      },
      "execution_count": null,
      "outputs": [
        {
          "output_type": "execute_result",
          "data": {
            "text/plain": [
              "<bound method DataFrame.info of      index  Unnamed: 0                                              post   \\\n",
              "0        0           0                              my heart my soul..T-T   \n",
              "1        2           2              Free speech is a joke in this country   \n",
              "2        5           5  Make 500 sequels I don't care.Make another Jus...   \n",
              "3        6           6  Everybody wants a piece of the politically cor...   \n",
              "4       10          10                    And that's how a movement dies.   \n",
              "..     ...         ...                                                ...   \n",
              "995   1421        1421                                             LOL :v   \n",
              "996   1422        1422                                        oh..okay :s   \n",
              "997   1423        1423   Marvel's Legion is gonna be the next best thing.   \n",
              "998   1424        1424                                       way to go :3   \n",
              "999   1426        1426                                                LOL   \n",
              "\n",
              "     Mach  LSRP12  LSRP2  NRSM  \n",
              "0    68.0     1.3    2.5   3.0  \n",
              "1    68.0     1.3    2.5   3.0  \n",
              "2    68.0     1.3    2.5   3.0  \n",
              "3    68.0     1.3    2.5   3.0  \n",
              "4    68.0     1.3    2.5   3.0  \n",
              "..    ...     ...    ...   ...  \n",
              "995  77.0     2.3    3.2  13.0  \n",
              "996  77.0     2.3    3.2  13.0  \n",
              "997  77.0     2.3    3.2  13.0  \n",
              "998  77.0     2.3    3.2  13.0  \n",
              "999  77.0     2.3    3.2  13.0  \n",
              "\n",
              "[1000 rows x 7 columns]>"
            ]
          },
          "metadata": {},
          "execution_count": 17
        }
      ]
    },
    {
      "cell_type": "code",
      "source": [
        "#emoji to text "
      ],
      "metadata": {
        "id": "zxYobBWBomdl"
      },
      "execution_count": null,
      "outputs": []
    },
    {
      "cell_type": "code",
      "source": [
        "rawDataset_0_999['post '][0:10]"
      ],
      "metadata": {
        "colab": {
          "base_uri": "https://localhost:8080/"
        },
        "id": "k2aXGv6jvgKA",
        "outputId": "a5e8b010-193d-4712-9dfb-bcae222c3bd5"
      },
      "execution_count": null,
      "outputs": [
        {
          "output_type": "execute_result",
          "data": {
            "text/plain": [
              "0                                my heart my soul..T-T\n",
              "1                Free speech is a joke in this country\n",
              "2    Make 500 sequels I don't care.Make another Jus...\n",
              "3    Everybody wants a piece of the politically cor...\n",
              "4                      And that's how a movement dies.\n",
              "5                   হুম আর কি কি হচ্ছে একটা লিস্ট করি?\n",
              "6    France won the world cup\\nCroatia won our hear...\n",
              "7                        Underdogs all the way boiiiii\n",
              "8    *Gets beaten by two teams who reached the finals*\n",
              "9    yes please do post one more \"Its coming home.....\n",
              "Name: post , dtype: object"
            ]
          },
          "metadata": {},
          "execution_count": 18
        }
      ]
    },
    {
      "cell_type": "code",
      "source": [
        "!pip install langdetect\n",
        "from langdetect import detect\n",
        "def detect_my(text):\n",
        "   try:\n",
        "       return detect(text)\n",
        "   except:\n",
        "       return 'unknown'"
      ],
      "metadata": {
        "colab": {
          "base_uri": "https://localhost:8080/"
        },
        "id": "v4MNBkCb56mQ",
        "outputId": "ddddc733-2966-4528-b50f-389204f321e1"
      },
      "execution_count": null,
      "outputs": [
        {
          "output_type": "stream",
          "name": "stdout",
          "text": [
            "Looking in indexes: https://pypi.org/simple, https://us-python.pkg.dev/colab-wheels/public/simple/\n",
            "Collecting langdetect\n",
            "  Downloading langdetect-1.0.9.tar.gz (981 kB)\n",
            "\u001b[K     |████████████████████████████████| 981 kB 14.0 MB/s \n",
            "\u001b[?25hRequirement already satisfied: six in /usr/local/lib/python3.7/dist-packages (from langdetect) (1.15.0)\n",
            "Building wheels for collected packages: langdetect\n",
            "  Building wheel for langdetect (setup.py) ... \u001b[?25l\u001b[?25hdone\n",
            "  Created wheel for langdetect: filename=langdetect-1.0.9-py3-none-any.whl size=993242 sha256=4728342f3436d15d893308f6e4776d1ea028bddf85d8e5d321306faa0025a322\n",
            "  Stored in directory: /root/.cache/pip/wheels/c5/96/8a/f90c59ed25d75e50a8c10a1b1c2d4c402e4dacfa87f3aff36a\n",
            "Successfully built langdetect\n",
            "Installing collected packages: langdetect\n",
            "Successfully installed langdetect-1.0.9\n"
          ]
        }
      ]
    },
    {
      "cell_type": "code",
      "source": [
        "def convert(text):\n",
        "   try:\n",
        "     if(text!='en' and text!='bn'):\n",
        "       return 'other'\n",
        "     else:\n",
        "      return text\n",
        "   except:\n",
        "       return text"
      ],
      "metadata": {
        "id": "wOwMMc-86hgp"
      },
      "execution_count": null,
      "outputs": []
    },
    {
      "cell_type": "code",
      "source": [
        "rawDataset['language'] = rawDataset['post '].apply(detect_my)\n",
        "rawDataset['languages'] = rawDataset['language'].apply(convert)"
      ],
      "metadata": {
        "id": "xvMmHqQW6MWw"
      },
      "execution_count": null,
      "outputs": []
    },
    {
      "cell_type": "code",
      "source": [
        "englishDataset = rawDataset[rawDataset['languages'] == 'en']\n"
      ],
      "metadata": {
        "id": "7VNKHy1w66IA"
      },
      "execution_count": null,
      "outputs": []
    },
    {
      "cell_type": "code",
      "source": [
        "englishDataset.info"
      ],
      "metadata": {
        "colab": {
          "base_uri": "https://localhost:8080/"
        },
        "id": "fisH0I347GRG",
        "outputId": "3507b8ac-567b-4d6e-f2ad-6ee7115387f7"
      },
      "execution_count": null,
      "outputs": [
        {
          "output_type": "execute_result",
          "data": {
            "text/plain": [
              "<bound method DataFrame.info of       index  Unnamed: 0                                              posts  \\\n",
              "0         0           0                              my heart my soul..T-T   \n",
              "1         2           2              Free speech is a joke in this country   \n",
              "2         5           5  Make 500 sequels I don't care.Make another Jus...   \n",
              "3         6           6  Everybody wants a piece of the politically cor...   \n",
              "4        10          10                    And that's how a movement dies.   \n",
              "...     ...         ...                                                ...   \n",
              "8720  12743       12743  This broke my heart... May the departed soul r...   \n",
              "8721  12744       12744  :( First Massive crash with Bangladeshi passen...   \n",
              "8722  12745       12745                    TWO SUPERHUMANS IN ONE FRAME <3   \n",
              "8723  12746       12746  Man!!!\\nThe chase- UNBELIEVABLE!! Mushi and Ri...   \n",
              "8726  12750       12750                  A small piece of heaven on earth.   \n",
              "\n",
              "      Mach  LSRP12  LSRP2  NRSM languages  \n",
              "0      1.0     1.3    2.5   3.0        en  \n",
              "1      1.0     1.3    2.5   3.0        en  \n",
              "2      1.0     1.3    2.5   3.0        en  \n",
              "3      1.0     1.3    2.5   3.0        en  \n",
              "4      1.0     1.3    2.5   3.0        en  \n",
              "...    ...     ...    ...   ...       ...  \n",
              "8720   1.0     1.9    3.1  19.0        en  \n",
              "8721   1.0     1.9    3.1  19.0        en  \n",
              "8722   1.0     1.9    3.1  19.0        en  \n",
              "8723   1.0     1.9    3.1  19.0        en  \n",
              "8726   1.0     1.9    3.1  19.0        en  \n",
              "\n",
              "[4521 rows x 8 columns]>"
            ]
          },
          "metadata": {},
          "execution_count": 39
        }
      ]
    },
    {
      "cell_type": "code",
      "source": [
        "englishDataset.drop(['language'],axis=1,inplace=True)\n",
        "englishDataset.rename(columns = {'post ':'posts'}, inplace = True)\n",
        "englishDataset.to_csv('EnglishDataset.csv', sep=',')"
      ],
      "metadata": {
        "id": "0k-2dwzO7NuP"
      },
      "execution_count": null,
      "outputs": []
    },
    {
      "cell_type": "code",
      "source": [
        "engDataset = pd.read_csv('/content/EnglishDataset.csv', delimiter = \",\")\n",
        "engDataset.loc[engDataset.Mach <=60 , \"Mach\"] = 0\n",
        "engDataset.loc[engDataset.Mach > 0, \"Mach\"] = 1\n",
        "engDataset.to_csv('EnglishMedianSplitMach.csv', sep=',')"
      ],
      "metadata": {
        "id": "LchnBi0IHEoy"
      },
      "execution_count": null,
      "outputs": []
    },
    {
      "cell_type": "code",
      "source": [
        "englishDataset['posts'][14:15]"
      ],
      "metadata": {
        "colab": {
          "base_uri": "https://localhost:8080/"
        },
        "id": "WL_-1Wl38v1V",
        "outputId": "623c8053-1198-40e1-aacb-95e77bae52c2"
      },
      "execution_count": null,
      "outputs": [
        {
          "output_type": "execute_result",
          "data": {
            "text/plain": [
              "17    কালাই রুটি with the best company at rajsahi!\n",
              "Name: posts, dtype: object"
            ]
          },
          "metadata": {},
          "execution_count": 22
        }
      ]
    },
    {
      "cell_type": "code",
      "source": [
        "#find max len \n",
        "\n",
        "all_numbers = englishDataset['posts'].apply(lambda text:len(str(text).split()))\n",
        "max_comment_len = all_numbers.max()\n",
        "print(max_comment_len)"
      ],
      "metadata": {
        "colab": {
          "base_uri": "https://localhost:8080/"
        },
        "id": "ZylBVomY_3Vq",
        "outputId": "d38be5cc-5d78-42e4-e23f-4b59ac7defe5"
      },
      "execution_count": null,
      "outputs": [
        {
          "output_type": "stream",
          "name": "stdout",
          "text": [
            "4587\n"
          ]
        }
      ]
    },
    {
      "cell_type": "markdown",
      "source": [
        "Train test val split"
      ],
      "metadata": {
        "id": "VoWiWMNOBK8Z"
      }
    },
    {
      "cell_type": "code",
      "source": [
        "x, xtest, y, ytest = train_test_split(engDataset.posts.values, engDataset.Mach.values,\n",
        "                                                  stratify= engDataset.Mach.values, \n",
        "                                                  random_state=42, \n",
        "                                                  test_size=0.4, shuffle=True)\n",
        "\n",
        "xtrain, xvalid, ytrain, yvalid = train_test_split(x, y,\n",
        "                                                  stratify=y, \n",
        "                                                  random_state=42, \n",
        "                                                  test_size=0.2, shuffle=True)"
      ],
      "metadata": {
        "id": "D0NPaaduBO-7"
      },
      "execution_count": null,
      "outputs": []
    },
    {
      "cell_type": "markdown",
      "source": [
        "Tokeniser"
      ],
      "metadata": {
        "id": "cq5s_oApBgD0"
      }
    },
    {
      "cell_type": "code",
      "source": [
        "from keras.utils import pad_sequences"
      ],
      "metadata": {
        "id": "pPJdwSgTBsgk"
      },
      "execution_count": null,
      "outputs": []
    },
    {
      "cell_type": "code",
      "source": [
        "token = text.Tokenizer(num_words=None)\n",
        "\n",
        "token.fit_on_texts(list(xtrain) + list(xvalid))\n",
        "xtrain_seq = token.texts_to_sequences(xtrain)\n",
        "xvalid_seq = token.texts_to_sequences(xvalid)\n",
        "\n",
        "#zero pad the sequences\n",
        "xtrain_pad = pad_sequences(xtrain_seq, maxlen=max_comment_len)\n",
        "xvalid_pad = pad_sequences(xvalid_seq, maxlen=max_comment_len)\n",
        "\n",
        "word_index = token.word_index"
      ],
      "metadata": {
        "id": "OpyMTKroBfLd"
      },
      "execution_count": null,
      "outputs": []
    },
    {
      "cell_type": "code",
      "source": [
        "model = tf.keras.Sequential([\n",
        "    tf.keras.layers.Embedding(len(word_index) + 1,200,input_length=max_comment_len),\n",
        "    tf.keras.layers.SimpleRNN(32),\n",
        "    tf.keras.layers.Dense(10, activation='relu'),\n",
        "    tf.keras.layers.Dense(1, activation='sigmoid')\n",
        "])\n",
        "model.summary()"
      ],
      "metadata": {
        "colab": {
          "base_uri": "https://localhost:8080/"
        },
        "id": "Qx63qYXxB39O",
        "outputId": "2f5baccb-16b5-4865-c524-896350e72f4d"
      },
      "execution_count": null,
      "outputs": [
        {
          "output_type": "stream",
          "name": "stdout",
          "text": [
            "Model: \"sequential_7\"\n",
            "_________________________________________________________________\n",
            " Layer (type)                Output Shape              Param #   \n",
            "=================================================================\n",
            " embedding_7 (Embedding)     (None, 4587, 200)         1880000   \n",
            "                                                                 \n",
            " simple_rnn_7 (SimpleRNN)    (None, 32)                7456      \n",
            "                                                                 \n",
            " dense_14 (Dense)            (None, 10)                330       \n",
            "                                                                 \n",
            " dense_15 (Dense)            (None, 1)                 11        \n",
            "                                                                 \n",
            "=================================================================\n",
            "Total params: 1,887,797\n",
            "Trainable params: 1,887,797\n",
            "Non-trainable params: 0\n",
            "_________________________________________________________________\n"
          ]
        }
      ]
    },
    {
      "cell_type": "code",
      "source": [
        "model.compile(loss='binary_crossentropy',\n",
        "              optimizer='adam',\n",
        "              metrics=['accuracy'])\n",
        "num_epochs=5\n",
        "history=model.fit(xtrain_pad, ytrain, epochs=num_epochs, validation_data = (xvalid_pad, yvalid))"
      ],
      "metadata": {
        "colab": {
          "base_uri": "https://localhost:8080/"
        },
        "id": "Mbo9FalRCADD",
        "outputId": "a574f06c-6445-4e18-c176-4fab51e01b64"
      },
      "execution_count": null,
      "outputs": [
        {
          "output_type": "stream",
          "name": "stdout",
          "text": [
            "Epoch 1/5\n",
            "68/68 [==============================] - 219s 3s/step - loss: 0.6198 - accuracy: 0.6782 - val_loss: 0.6054 - val_accuracy: 0.7035\n",
            "Epoch 2/5\n",
            "68/68 [==============================] - 221s 3s/step - loss: 0.4291 - accuracy: 0.8165 - val_loss: 0.6246 - val_accuracy: 0.6667\n",
            "Epoch 3/5\n",
            "68/68 [==============================] - 229s 3s/step - loss: 0.1950 - accuracy: 0.9451 - val_loss: 0.7121 - val_accuracy: 0.6427\n",
            "Epoch 4/5\n",
            "68/68 [==============================] - 221s 3s/step - loss: 0.0642 - accuracy: 0.9876 - val_loss: 0.8294 - val_accuracy: 0.6096\n",
            "Epoch 5/5\n",
            "68/68 [==============================] - 222s 3s/step - loss: 0.0272 - accuracy: 0.9949 - val_loss: 0.9216 - val_accuracy: 0.5985\n"
          ]
        }
      ]
    },
    {
      "cell_type": "code",
      "source": [
        "print(history.history.keys())\n",
        "plt.plot(history.history['accuracy'])\n",
        "plt.plot(history.history['val_accuracy'])\n",
        "plt.title('model accuracy')\n",
        "plt.ylabel('accuracy')\n",
        "plt.xlabel('epoch')\n",
        "plt.legend(['train', 'test'], loc='upper left')\n",
        "plt.show()\n",
        "\n",
        "plt.plot(history.history['loss'])\n",
        "plt.plot(history.history['val_loss'])\n",
        "plt.title('model loss')\n",
        "plt.ylabel('loss')\n",
        "plt.xlabel('epoch')\n",
        "plt.legend(['train', 'test'], loc='upper left')\n",
        "plt.show()"
      ],
      "metadata": {
        "colab": {
          "base_uri": "https://localhost:8080/",
          "height": 591
        },
        "id": "6a1mSK4JKLgq",
        "outputId": "b887e5e1-9e3c-49a8-f5c2-10d3e9f35171"
      },
      "execution_count": null,
      "outputs": [
        {
          "output_type": "stream",
          "name": "stdout",
          "text": [
            "dict_keys(['loss', 'accuracy', 'val_loss', 'val_accuracy'])\n"
          ]
        },
        {
          "output_type": "display_data",
          "data": {
            "text/plain": [
              "<Figure size 432x288 with 1 Axes>"
            ],
            "image/png": "[encoded data removed]"
          },
          "metadata": {
            "needs_background": "light"
          }
        },
        {
          "output_type": "display_data",
          "data": {
            "text/plain": [
              "<Figure size 432x288 with 1 Axes>"
            ],
            "image/png": "[encoded data removed]"
          },
          "metadata": {
            "needs_background": "light"
          }
        }
      ]
    }
  ]
}